{
 "cells": [
  {
   "cell_type": "markdown",
   "id": "573178ed-f6a5-4274-85ea-87cfaea5763e",
   "metadata": {},
   "source": [
    "# Python Basics Variables\n",
    "# Swap the values of two variables x and y without using any temporary variable."
   ]
  },
  {
   "cell_type": "code",
   "execution_count": 7,
   "id": "14d0e2e2-df2f-4680-833e-bc284882ce7a",
   "metadata": {},
   "outputs": [],
   "source": [
    "# Take two integer variables\n",
    "x = 10\n",
    "y = 20 "
   ]
  },
  {
   "cell_type": "code",
   "execution_count": 8,
   "id": "624b944f-7f69-47be-b131-3654b6c7de6b",
   "metadata": {},
   "outputs": [],
   "source": [
    "# Procedure to swap x and y without using the third variable\n",
    "x = x+y\n",
    "y = x-y\n",
    "x = x-y"
   ]
  },
  {
   "cell_type": "code",
   "execution_count": 9,
   "id": "02e0e3ca-d93a-431d-bd3d-1d0228e66f64",
   "metadata": {},
   "outputs": [
    {
     "name": "stdout",
     "output_type": "stream",
     "text": [
      "20\n",
      "10\n"
     ]
    }
   ],
   "source": [
    "print(x)\n",
    "print(y)"
   ]
  },
  {
   "cell_type": "markdown",
   "id": "cd478a41-a6bb-4551-99b9-486f0cc104f3",
   "metadata": {},
   "source": [
    "# Calculate the area of rectangle"
   ]
  },
  {
   "cell_type": "code",
   "execution_count": 13,
   "id": "d101c0ec-fc80-4bfb-9019-da7f7c202222",
   "metadata": {},
   "outputs": [
    {
     "name": "stdin",
     "output_type": "stream",
     "text": [
      " 20\n"
     ]
    }
   ],
   "source": [
    "# Take length and width from user end.\n",
    "l = int(input())"
   ]
  },
  {
   "cell_type": "code",
   "execution_count": 14,
   "id": "f2a895c9-bf68-4f50-bd32-ea1d1b904ae5",
   "metadata": {},
   "outputs": [
    {
     "name": "stdin",
     "output_type": "stream",
     "text": [
      " 4\n"
     ]
    }
   ],
   "source": [
    "w = int(input())"
   ]
  },
  {
   "cell_type": "code",
   "execution_count": 15,
   "id": "97c4e8c4-f9da-4803-a242-33304c4deb50",
   "metadata": {},
   "outputs": [],
   "source": [
    "# Calculate the area of rectangle\n",
    "area = l*w"
   ]
  },
  {
   "cell_type": "code",
   "execution_count": 16,
   "id": "659ba0b2-b9fa-4275-87b7-dde247fae6d4",
   "metadata": {},
   "outputs": [
    {
     "name": "stdout",
     "output_type": "stream",
     "text": [
      "80\n"
     ]
    }
   ],
   "source": [
    "print(area)"
   ]
  },
  {
   "cell_type": "markdown",
   "id": "8f5c1d3c-7e2b-414b-827a-1b22f100979b",
   "metadata": {},
   "source": [
    "# Conversion of temperature from Celsius to Fahrenheit."
   ]
  },
  {
   "cell_type": "code",
   "execution_count": 17,
   "id": "02069af2-aa51-4694-8967-3a88606c349f",
   "metadata": {},
   "outputs": [
    {
     "name": "stdin",
     "output_type": "stream",
     "text": [
      " 100.5\n"
     ]
    }
   ],
   "source": [
    "# Take the input temperature in Celsius from the user\n",
    "C = float(input())"
   ]
  },
  {
   "cell_type": "code",
   "execution_count": 18,
   "id": "48c2d8ad-5ead-4597-9fe9-a02a4ebcf6bc",
   "metadata": {},
   "outputs": [],
   "source": [
    "# Conversion of the temperature from Celsius to Fahrenheit\n",
    "F = (C * 9/5) + 32"
   ]
  },
  {
   "cell_type": "code",
   "execution_count": 19,
   "id": "253f0563-5a30-45c1-9e0e-b5590515e962",
   "metadata": {},
   "outputs": [
    {
     "name": "stdout",
     "output_type": "stream",
     "text": [
      "212.9\n"
     ]
    }
   ],
   "source": [
    "print(F)"
   ]
  },
  {
   "cell_type": "markdown",
   "id": "75b0458f-68fe-4cbc-9f05-4f39226f6754",
   "metadata": {},
   "source": [
    "# String Based Questions\n",
    "# Take a string as input and prints the length of the string."
   ]
  },
  {
   "cell_type": "code",
   "execution_count": 21,
   "id": "d634ee84-ae68-4f43-a37d-e011367a1939",
   "metadata": {},
   "outputs": [],
   "source": [
    "# Take the input in string\n",
    "str = 'Bhavana'"
   ]
  },
  {
   "cell_type": "code",
   "execution_count": 22,
   "id": "a2d202da-c330-4e95-b347-7edc61564f3f",
   "metadata": {},
   "outputs": [
    {
     "data": {
      "text/plain": [
       "7"
      ]
     },
     "execution_count": 22,
     "metadata": {},
     "output_type": "execute_result"
    }
   ],
   "source": [
    "# Print the length of str\n",
    "len(str)"
   ]
  },
  {
   "cell_type": "markdown",
   "id": "0df230bd-908e-4ff2-8e70-30a57f72ba63",
   "metadata": {},
   "source": [
    "# Create a program that takes a sentence from the user and counts the number of vowels (a, e, i, o, u) in the string."
   ]
  },
  {
   "cell_type": "code",
   "execution_count": 1,
   "id": "dc50a22f-ac92-4f18-96f1-57a1d049781c",
   "metadata": {},
   "outputs": [
    {
     "name": "stdin",
     "output_type": "stream",
     "text": [
      "Enter the string : My name is Bhavana Bansal\n"
     ]
    },
    {
     "name": "stdout",
     "output_type": "stream",
     "text": [
      "Total vowels are :8\n"
     ]
    }
   ],
   "source": [
    "#take user input\n",
    "String = input('Enter the string :')\n",
    "count = 0\n",
    "#to check for less conditions\n",
    "#keep string in lowercase\n",
    "String = String.lower()\n",
    "for i in String:\n",
    "    if i == 'a' or i == 'e' or i == 'i' or i == 'o' or i == 'u':\n",
    "        #if True\n",
    "        count+=1\n",
    "#check if any vowel found\n",
    "if count == 0:\n",
    "    print('No vowels found')\n",
    "else:\n",
    "    print('Total vowels are :' + str(count))"
   ]
  },
  {
   "cell_type": "markdown",
   "id": "5aae75c9-f70d-4006-8320-faf1f0f50cdb",
   "metadata": {},
   "source": [
    "# Reverse the order of characters in a string using string slicing and print the reversed string."
   ]
  },
  {
   "cell_type": "code",
   "execution_count": 3,
   "id": "34bc06f9-18e1-4b94-8752-092ea81b19b3",
   "metadata": {},
   "outputs": [
    {
     "name": "stdin",
     "output_type": "stream",
     "text": [
      "Enter the string : Bhavana Bansal\n"
     ]
    },
    {
     "name": "stdout",
     "output_type": "stream",
     "text": [
      "Reverse string slicing is:lasnaB anavahB\n"
     ]
    }
   ],
   "source": [
    "#take user input\n",
    "String = input('Enter the string :')\n",
    "# Reverse the string using slicing\n",
    "Rev_string = String[::-1]\n",
    "# Print the Reversed string\n",
    "print ('Reverse string slicing is:' + Rev_string)"
   ]
  },
  {
   "cell_type": "markdown",
   "id": "04139978-2e1e-4a82-82e5-589ae5bab4ea",
   "metadata": {},
   "source": [
    "# Check the string is palindrom or not"
   ]
  },
  {
   "cell_type": "code",
   "execution_count": 4,
   "id": "62545f3f-ac60-41a9-82c3-c84c00b22c18",
   "metadata": {},
   "outputs": [
    {
     "name": "stdin",
     "output_type": "stream",
     "text": [
      "Enter the string : malayalam\n"
     ]
    },
    {
     "name": "stdout",
     "output_type": "stream",
     "text": [
      "Reverse string slicing is:malayalam\n",
      "The string is palindrome\n"
     ]
    }
   ],
   "source": [
    "#take user input\n",
    "String = input('Enter the string :')\n",
    "# Reverse the string using slicing\n",
    "Rev_string = String[::-1]\n",
    "# Print the Reversed string\n",
    "print ('Reverse string slicing is:' + Rev_string)\n",
    "# Check if the string is palindrom\n",
    "if String == Rev_string:\n",
    "    print(\"The string is palindrome\")\n",
    "else:\n",
    "    print(\"The string is not palindrome\")\n",
    "    "
   ]
  },
  {
   "cell_type": "markdown",
   "id": "fd2b8d7d-d0d7-4d3b-acde-3187ccf81829",
   "metadata": {},
   "source": [
    "# Create a program that takes a string as input and removes all the spaces from it. Print the modified string without spaces."
   ]
  },
  {
   "cell_type": "code",
   "execution_count": 6,
   "id": "8e3a89d7-d0b6-4952-bae5-2161fc6ca6fc",
   "metadata": {},
   "outputs": [
    {
     "name": "stdin",
     "output_type": "stream",
     "text": [
      "Enter the string :   He  l l o Worl  d\n"
     ]
    },
    {
     "name": "stdout",
     "output_type": "stream",
     "text": [
      "The string without spaces is:HelloWorld\n"
     ]
    }
   ],
   "source": [
    "#take user input\n",
    "String = input('Enter the string :')\n",
    "# Remove the space from the string\n",
    "trim_string = String.replace(\" \", \"\")\n",
    "# Print the string without spaces\n",
    "print(\"The string without spaces is:\" + trim_string)"
   ]
  },
  {
   "cell_type": "code",
   "execution_count": null,
   "id": "75a34472-bfd9-4c48-9733-a673cf80411c",
   "metadata": {},
   "outputs": [],
   "source": []
  }
 ],
 "metadata": {
  "kernelspec": {
   "display_name": "Python 3 (ipykernel)",
   "language": "python",
   "name": "python3"
  },
  "language_info": {
   "codemirror_mode": {
    "name": "ipython",
    "version": 3
   },
   "file_extension": ".py",
   "mimetype": "text/x-python",
   "name": "python",
   "nbconvert_exporter": "python",
   "pygments_lexer": "ipython3",
   "version": "3.10.8"
  }
 },
 "nbformat": 4,
 "nbformat_minor": 5
}
